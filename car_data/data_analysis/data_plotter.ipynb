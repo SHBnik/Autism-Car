{
  "nbformat": 4,
  "nbformat_minor": 0,
  "metadata": {
    "colab": {
      "name": "smart_car_data.ipynb",
      "provenance": [],
      "private_outputs": true
    },
    "kernelspec": {
      "name": "python3",
      "display_name": "Python 3"
    },
    "accelerator": "GPU"
  },
  "cells": [
    {
      "cell_type": "code",
      "metadata": {
        "id": "cyYWx8xQyVT_",
        "colab_type": "code",
        "colab": {}
      },
      "source": [
        "import pandas as pd"
      ],
      "execution_count": 0,
      "outputs": []
    },
    {
      "cell_type": "code",
      "metadata": {
        "id": "-R-zOirzxMqU",
        "colab_type": "code",
        "colab": {}
      },
      "source": [
        "link = ['https://raw.githubusercontent.com/SHBnik/Autism-Car/master/car_data/mahdiar_04_13_AM_January_07_2020.csv',\n",
        "       'https://raw.githubusercontent.com/SHBnik/Autism-Car/master/car_data/noshad_04_35_AM_January_07_2020.csv',\n",
        "       'https://raw.githubusercontent.com/SHBnik/Autism-Car/master/car_data/taha%20amini2_03_34_AM_January_07_2020.csv',\n",
        "       'https://raw.githubusercontent.com/SHBnik/Autism-Car/master/car_data/taha%20amini3_03_36_AM_January_07_2020.csv',\n",
        "       'https://raw.githubusercontent.com/SHBnik/Autism-Car/master/car_data/taha%20amini_03_32_AM_January_07_2020.csv',\n",
        "       'https://raw.githubusercontent.com/SHBnik/Autism-Car/master/car_data/yazdan%20_03_46_AM_January_07_2020.csv']\n",
        "\n"
      ],
      "execution_count": 0,
      "outputs": []
    },
    {
      "cell_type": "code",
      "metadata": {
        "id": "mT2tAUMFxOvL",
        "colab_type": "code",
        "colab": {}
      },
      "source": [
        "df = pd.read_csv(link[2])\n",
        "id = df.to_csv()[2:df.to_csv().find('ACx')-1]\n",
        "df = pd.read_csv(url, skiprows = 1)\n",
        "time = df.values[df.index[-1]][0]\n",
        "df = df.drop(df.index[-1])\n",
        "df = df.astype(int)"
      ],
      "execution_count": 0,
      "outputs": []
    },
    {
      "cell_type": "code",
      "metadata": {
        "id": "Zrkjrb1_xSM2",
        "colab_type": "code",
        "colab": {}
      },
      "source": [
        "plot_Acc = df.plot(x='time',y = ['ACx','ACy','ACz'],grid = True,figsize = (12,9),title = id)\n",
        "plot_enc = df.plot(x = 'time',y = ['encoder1','encoder2'],grid = True,figsize = (12,9),title = id)"
      ],
      "execution_count": 0,
      "outputs": []
    },
    {
      "cell_type": "code",
      "metadata": {
        "id": "bCZlfUgmxWNG",
        "colab_type": "code",
        "colab": {}
      },
      "source": [
        "fig_Acc = plot_Acc.get_figure()\n",
        "fig_Acc.savefig(id+'-Acc-'+\".png\")\n",
        "fig_enc = plot_enc.get_figure()\n",
        "fig_enc.savefig(id+'-enc-'+\".png\")"
      ],
      "execution_count": 0,
      "outputs": []
    },
    {
      "cell_type": "code",
      "metadata": {
        "id": "-u10WCXwxvE_",
        "colab_type": "code",
        "colab": {}
      },
      "source": [
        "from google.colab import files\n",
        "\n",
        "files.download(id+'-Acc-'+\".png\")\n",
        "files.download(id+'-enc-'+\".png\")"
      ],
      "execution_count": 0,
      "outputs": []
    }
  ]
}
