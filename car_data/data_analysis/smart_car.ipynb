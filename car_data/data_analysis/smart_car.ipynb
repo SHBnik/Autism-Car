{
  "nbformat": 4,
  "nbformat_minor": 0,
  "metadata": {
    "colab": {
      "name": "smart_car.ipynb",
      "provenance": [],
      "private_outputs": true,
      "authorship_tag": "ABX9TyMylUtObO8JWmPaOKQOrKSn",
      "include_colab_link": true
    },
    "kernelspec": {
      "name": "python3",
      "display_name": "Python 3"
    },
    "accelerator": "GPU"
  },
  "cells": [
    {
      "cell_type": "markdown",
      "metadata": {
        "id": "view-in-github",
        "colab_type": "text"
      },
      "source": [
        "<a href=\"https://colab.research.google.com/github/SHBnik/Autism-Car/blob/master/Autism-Car%5Ccar_data%5Cdata_analysis%5Csmart_car.ipynb\" target=\"_parent\"><img src=\"https://colab.research.google.com/assets/colab-badge.svg\" alt=\"Open In Colab\"/></a>"
      ]
    },
    {
      "cell_type": "code",
      "metadata": {
        "id": "muwJRWFR5M2O",
        "colab_type": "code",
        "colab": {}
      },
      "source": [
        "!git clone https://github.com/SHBnik/Autism-Car.git"
      ],
      "execution_count": 0,
      "outputs": []
    },
    {
      "cell_type": "code",
      "metadata": {
        "id": "zF8AVHZGBntp",
        "colab_type": "code",
        "colab": {}
      },
      "source": [
        "import pandas as pd\n",
        "import os"
      ],
      "execution_count": 0,
      "outputs": []
    },
    {
      "cell_type": "code",
      "metadata": {
        "id": "LHhwTLaMtD-q",
        "colab_type": "code",
        "colab": {}
      },
      "source": [
        "import plotly.graph_objects as go\n",
        "import plotly.offline \n",
        "from google.colab import files"
      ],
      "execution_count": 0,
      "outputs": []
    },
    {
      "cell_type": "code",
      "metadata": {
        "id": "87Q_bXOqVXvv",
        "colab_type": "code",
        "colab": {}
      },
      "source": [
        "def enable_plotly_in_cell():\n",
        "  import IPython\n",
        "  from plotly.offline import init_notebook_mode\n",
        "  display(IPython.core.display.HTML('''<script src=\"/static/components/requirejs/require.js\"></script>'''))\n",
        "  init_notebook_mode(connected=False)"
      ],
      "execution_count": 0,
      "outputs": []
    },
    {
      "cell_type": "code",
      "metadata": {
        "id": "rag55RQ7CHJI",
        "colab_type": "code",
        "colab": {}
      },
      "source": [
        "path = 'Autism-Car/car_data/data_analysis/control_candid/'\n",
        "dirs = os.listdir(path)\n",
        "\n",
        "for i in range(len(dirs)):\n",
        "  df = pd.read_csv(path+dirs[i], skiprows = 1)\n",
        "  id=pd.read_csv(path+dirs[i]).columns\n",
        "  name = id[0]\n",
        "  age = id[1]\n",
        "  gender = id[3]\n",
        "  test_time = df.values[df.index[-1]][0]\n",
        "  title = name + \"_\" + age + \"_\" + gender\n",
        "  df = df.drop(df.index[-1])\n",
        "  df = df.astype(float)\n",
        "\n",
        "\n",
        "  enable_plotly_in_cell()\n",
        "  figACC = go.Figure()\n",
        "\n",
        "  figACC.add_trace(go.Scatter(x=df.time, y=df.ACx, name=\"x_acc\",\n",
        "                          line_color='green'))\n",
        "\n",
        "  figACC.add_trace(go.Scatter(x=df.time, y=df.ACy, name=\"y_acc\",\n",
        "                          line_color='blue'))\n",
        "\n",
        "  figACC.add_trace(go.Scatter(x=df.time, y=df.ACz, name=\"z_acc\",\n",
        "                          line_color='red'))\n",
        "\n",
        "  figACC.update_layout(title_text=title)\n",
        "  plotly.offline.plot(figACC, filename = title+'ACC.html', auto_open=False)\n",
        "  # figACC.show()\n",
        "  files.download(title+'ACC.html')\n",
        "\n",
        "\n",
        "  figENC = go.Figure()\n",
        "\n",
        "  figENC.add_trace(go.Scatter(x=df.time, y=df.encoder1, name=\"encoder 1\",\n",
        "                          line_color='cyan'))\n",
        "\n",
        "  figENC.add_trace(go.Scatter(x=df.time, y=df.encoder2, name=\"encoder 2\",\n",
        "                          line_color='purple'))\n",
        "\n",
        "  figENC.update_layout(title_text=title)\n",
        "  plotly.offline.plot(figENC, filename = title+'ENC.html', auto_open=False)\n",
        "  # figENC.show()\n",
        "  files.download(title+'ENC.html')"
      ],
      "execution_count": 0,
      "outputs": []
    },
    {
      "cell_type": "code",
      "metadata": {
        "id": "hMvggkBIFb0Z",
        "colab_type": "code",
        "colab": {}
      },
      "source": [
        "path = 'Autism-Car/car_data/data_analysis/test_candid/'\n",
        "# os.listdir(path)[0]\n",
        "files = path + os.listdir(path)[0]\n",
        "print(files)\n",
        "df = pd.read_csv(files, skiprows = 1)\n",
        "id=pd.read_csv(files).columns\n",
        "name = id[0]\n",
        "age = id[1]\n",
        "gender = id[3]\n",
        "title = name + \"_\" + age + \"_\" + gender\n",
        "test_time = df.values[df.index[-1]][0]\n",
        "df = df.drop(df.index[-1])\n",
        "df = df.astype(float)"
      ],
      "execution_count": 0,
      "outputs": []
    },
    {
      "cell_type": "code",
      "metadata": {
        "id": "_u7fOMUltjrT",
        "colab_type": "code",
        "colab": {}
      },
      "source": [
        "\n",
        "enable_plotly_in_cell()\n",
        "figACC = go.Figure()\n",
        "\n",
        "figACC.add_trace(go.Scatter(x=df.time, y=df.ACx, name=\"x_acc\",\n",
        "                         line_color='green'))\n",
        "\n",
        "figACC.add_trace(go.Scatter(x=df.time, y=df.ACy, name=\"y_acc\",\n",
        "                         line_color='blue'))\n",
        "\n",
        "figACC.add_trace(go.Scatter(x=df.time, y=df.ACz, name=\"z_acc\",\n",
        "                         line_color='red'))\n",
        "\n",
        "figACC.update_layout(title_text=title)\n",
        "plotly.offline.plot(figACC, filename = title+'ACC.html', auto_open=False)\n",
        "# figACC.show()\n",
        "files.download(title+'ACC.html')\n",
        "\n",
        "\n",
        "figENC = go.Figure()\n",
        "\n",
        "figENC.add_trace(go.Scatter(x=df.time, y=df.encoder1, name=\"encoder 1\",\n",
        "                         line_color='cyan'))\n",
        "\n",
        "figENC.add_trace(go.Scatter(x=df.time, y=df.encoder2, name=\"encoder 2\",\n",
        "                         line_color='purple'))\n",
        "\n",
        "figENC.update_layout(title_text=title)\n",
        "plotly.offline.plot(fig, filename = title+'ENC.html', auto_open=False)\n",
        "# figENC.show()\n",
        "files.download(title+'ENC.html')"
      ],
      "execution_count": 0,
      "outputs": []
    },
    {
      "cell_type": "code",
      "metadata": {
        "id": "RWUTSruD_DQr",
        "colab_type": "code",
        "colab": {}
      },
      "source": [
        "enable_plotly_in_cell()\n",
        "fig = go.Figure()\n",
        "\n",
        "fig.add_trace(go.Scatter(x=df.time, y=df.encoder1, name=\"encoder 1\",\n",
        "                         line_color='cyan'))\n",
        "\n",
        "fig.add_trace(go.Scatter(x=df.time, y=df.encoder2, name=\"encoder 2\",\n",
        "                         line_color='purple'))\n",
        "\n",
        "fig.update_layout(title_text=title)\n",
        "fig.show()"
      ],
      "execution_count": 0,
      "outputs": []
    },
    {
      "cell_type": "code",
      "metadata": {
        "id": "PLkn-uJ2V-rh",
        "colab_type": "code",
        "colab": {}
      },
      "source": [
        ""
      ],
      "execution_count": 0,
      "outputs": []
    }
  ]
}
