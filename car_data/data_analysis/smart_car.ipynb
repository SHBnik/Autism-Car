{
  "nbformat": 4,
  "nbformat_minor": 0,
  "metadata": {
    "colab": {
      "name": "smart_car.ipynb",
      "provenance": [],
      "private_outputs": true
    },
    "kernelspec": {
      "name": "python3",
      "display_name": "Python 3"
    },
    "accelerator": "GPU"
  },
  "cells": [
    {
      "cell_type": "code",
      "metadata": {
        "id": "muwJRWFR5M2O",
        "colab_type": "code",
        "colab": {}
      },
      "source": [
        "!git clone https://github.com/SHBnik/Autism-Car.git"
      ],
      "execution_count": 0,
      "outputs": []
    },
    {
      "cell_type": "code",
      "metadata": {
        "id": "zF8AVHZGBntp",
        "colab_type": "code",
        "colab": {}
      },
      "source": [
        "import pandas as pd\n",
        "import os"
      ],
      "execution_count": 0,
      "outputs": []
    },
    {
      "cell_type": "code",
      "metadata": {
        "id": "LHhwTLaMtD-q",
        "colab_type": "code",
        "colab": {}
      },
      "source": [
        "import plotly.graph_objects as go\n",
        "import plotly.offline \n",
        "from google.colab import files"
      ],
      "execution_count": 0,
      "outputs": []
    },
    {
      "cell_type": "markdown",
      "metadata": {
        "id": "ACVUUa1IcOuK",
        "colab_type": "text"
      },
      "source": [
        "**Necessary function for displaying plotly figs in Colab**"
      ]
    },
    {
      "cell_type": "code",
      "metadata": {
        "id": "87Q_bXOqVXvv",
        "colab_type": "code",
        "colab": {}
      },
      "source": [
        "def enable_plotly_in_cell():\n",
        "  import IPython\n",
        "  from plotly.offline import init_notebook_mode\n",
        "  display(IPython.core.display.HTML('''<script src=\"/static/components/requirejs/require.js\"></script>'''))\n",
        "  init_notebook_mode(connected=False)"
      ],
      "execution_count": 0,
      "outputs": []
    },
    {
      "cell_type": "code",
      "metadata": {
        "id": "FZFwhnqDLnCw",
        "colab_type": "code",
        "colab": {}
      },
      "source": [
        "path = 'Autism-Car/car_data/data_analysis/control_candid/data/'\n",
        "dirs = os.listdir(path)\n",
        "path + dirs[0]"
      ],
      "execution_count": 0,
      "outputs": []
    },
    {
      "cell_type": "markdown",
      "metadata": {
        "id": "zLIzd6LbchlA",
        "colab_type": "text"
      },
      "source": [
        "Plot acc and ecnoder data of each case and save as HTML file"
      ]
    },
    {
      "cell_type": "code",
      "metadata": {
        "id": "rag55RQ7CHJI",
        "colab_type": "code",
        "colab": {}
      },
      "source": [
        "for i in range(len(dirs)):\n",
        "  df = pd.read_csv(path+dirs[i], skiprows = 1)\n",
        "  id=pd.read_csv(path+dirs[i]).columns\n",
        "  name = id[0]\n",
        "  age = id[1]\n",
        "  gender = id[3]\n",
        "  test_time = df.values[df.index[-1]][0]\n",
        "  title = name + \"_\" + age + \"_\" + gender\n",
        "  df = df.drop(df.index[-1])\n",
        "  df = df.astype(float)\n",
        "\n",
        "\n",
        "  enable_plotly_in_cell()\n",
        "  figACC = go.Figure()\n",
        "\n",
        "  figACC.add_trace(go.Scatter(x=df.time, y=df.ACx, name=\"x_acc\",\n",
        "                          line_color='green'))\n",
        "\n",
        "  figACC.add_trace(go.Scatter(x=df.time, y=df.ACy, name=\"y_acc\",\n",
        "                          line_color='blue'))\n",
        "\n",
        "  figACC.add_trace(go.Scatter(x=df.time, y=df.ACz, name=\"z_acc\",\n",
        "                          line_color='red'))\n",
        "\n",
        "  figACC.update_layout(title_text=title)\n",
        "  plotly.offline.plot(figACC, filename = title+'ACC.html', auto_open=False)\n",
        "  # figACC.show()\n",
        "  files.download(title+'ACC.html')\n",
        "\n",
        "\n",
        "  figENC = go.Figure()\n",
        "\n",
        "  figENC.add_trace(go.Scatter(x=df.time, y=df.encoder1, name=\"encoder 1\",\n",
        "                          line_color='cyan'))\n",
        "\n",
        "  figENC.add_trace(go.Scatter(x=df.time, y=df.encoder2, name=\"encoder 2\",\n",
        "                          line_color='purple'))\n",
        "\n",
        "  figENC.update_layout(title_text=title)\n",
        "  plotly.offline.plot(figENC, filename = title+'ENC.html', auto_open=False)\n",
        "  # figENC.show()\n",
        "  files.download(title+'ENC.html')"
      ],
      "execution_count": 0,
      "outputs": []
    },
    {
      "cell_type": "markdown",
      "metadata": {
        "id": "NRsFj67Mcw81",
        "colab_type": "text"
      },
      "source": [
        "plot all control group data together and save as HTML file"
      ]
    },
    {
      "cell_type": "code",
      "metadata": {
        "id": "PLkn-uJ2V-rh",
        "colab_type": "code",
        "colab": {}
      },
      "source": [
        "path = 'Autism-Car/car_data/data_analysis/control_candid/data/'\n",
        "dirs = os.listdir(path)\n",
        "\n",
        "\n",
        "enable_plotly_in_cell()\n",
        "figACx = go.Figure()\n",
        "figACy = go.Figure()\n",
        "figACz = go.Figure()\n",
        "figENC1 = go.Figure()\n",
        "figENC2 = go.Figure()\n",
        "\n",
        "title_list = []\n",
        "\n",
        "for j in range(len(dirs)):\n",
        "  df = pd.read_csv(path+dirs[j], skiprows = 1 , encoding='utf8', engine='python')\n",
        "  id=pd.read_csv(path+dirs[j]).columns\n",
        "  name = id[0].replace(\" \", \"-\")\n",
        "  age = id[1]\n",
        "  gender = id[3]\n",
        "  test_time = df.values[df.index[-1]][0]\n",
        "  title = name + \"-\" + age + \"-\" + gender\n",
        "  title_list.append(title)\n",
        "  df = df.drop(df.index[-1])\n",
        "  df = df.astype(float)\n",
        "\n",
        "  figACx.add_trace(go.Scatter(x=df.time, y=df.ACx, name=title))\n",
        "  figACx.update_layout(title_text=\"X_acc(Control Group)\")\n",
        "  # figACx.show()\n",
        "\n",
        "  figACy.add_trace(go.Scatter(x=df.time, y=df.ACy, name=title))\n",
        "  figACy.update_layout(title_text=\"Y_acc(Control Group)\")\n",
        "  # figACy.show()\n",
        "\n",
        "  figACz.add_trace(go.Scatter(x=df.time, y=df.ACz, name=title))\n",
        "  figACz.update_layout(title_text=\"Z_acc(Control Group)\")\n",
        "  # figACz.show()\n",
        "\n",
        "  figENC1.add_trace(go.Scatter(x=df.time, y=df.encoder1, name=title))\n",
        "  figENC1.update_layout(title_text=\"Encoder_1(Control Group)\")\n",
        "  # figENC1.show()\n",
        "\n",
        "  figENC2.add_trace(go.Scatter(x=df.time, y=df.encoder2, name=title))\n",
        "  figENC2.update_layout(title_text=\"Encoder_2(Control Group)\")\n",
        "  # figENC2.show()\n",
        "\n",
        "\n",
        "\n",
        "plotly.offline.plot(figACx, filename = \"X_acc(Control Group).html\", auto_open=False)\n",
        "plotly.offline.plot(figACy, filename = \"Y_acc(Control Group).html\", auto_open=False)\n",
        "plotly.offline.plot(figACz, filename = \"Z_acc(Control Group).html\", auto_open=False)\n",
        "plotly.offline.plot(figENC1, filename = \"Encoder_1(Control Group).html\", auto_open=False)\n",
        "plotly.offline.plot(figENC2, filename = \"Encoder_2(Control Group).html\", auto_open=False)"
      ],
      "execution_count": 0,
      "outputs": []
    },
    {
      "cell_type": "markdown",
      "metadata": {
        "id": "7m2kf7Wegcdy",
        "colab_type": "text"
      },
      "source": [
        "plot all test group data together and save as HTML file"
      ]
    },
    {
      "cell_type": "code",
      "metadata": {
        "id": "hK-4xUnvZuNf",
        "colab_type": "code",
        "colab": {}
      },
      "source": [
        "path = 'Autism-Car/car_data/data_analysis/test_candid/data/'\n",
        "dirs = os.listdir(path)\n",
        "\n",
        "\n",
        "enable_plotly_in_cell()\n",
        "figACx = go.Figure()\n",
        "figACy = go.Figure()\n",
        "figACz = go.Figure()\n",
        "figENC1 = go.Figure()\n",
        "figENC2 = go.Figure()\n",
        "\n",
        "title_list = []\n",
        "\n",
        "for j in range(len(dirs)):\n",
        "  df = pd.read_csv(path+dirs[j], skiprows = 1 , encoding='utf8', engine='python')\n",
        "  id=pd.read_csv(path+dirs[j]).columns\n",
        "  name = id[0].replace(\" \", \"-\")\n",
        "  age = id[1]\n",
        "  gender = id[3]\n",
        "  test_time = df.values[df.index[-1]][0]\n",
        "  title = name + \"-\" + age + \"-\" + gender\n",
        "  title_list.append(title)\n",
        "  df = df.drop(df.index[-1])\n",
        "  df = df.astype(float)\n",
        "\n",
        "  figACx.add_trace(go.Scatter(x=df.time, y=df.ACx, name=title))\n",
        "  figACx.update_layout(title_text=\"X_acc(Test Group)\")\n",
        "  # figACx.show()\n",
        "\n",
        "  figACy.add_trace(go.Scatter(x=df.time, y=df.ACy, name=title))\n",
        "  figACy.update_layout(title_text=\"Y_acc(Test Group)\")\n",
        "  # figACy.show()\n",
        "\n",
        "  figACz.add_trace(go.Scatter(x=df.time, y=df.ACz, name=title))\n",
        "  figACz.update_layout(title_text=\"Z_acc(Test Group)\")\n",
        "  # figACz.show()\n",
        "\n",
        "  figENC1.add_trace(go.Scatter(x=df.time, y=df.encoder1, name=title))\n",
        "  figENC1.update_layout(title_text=\"Encoder_1(Test Group)\")\n",
        "  # figENC1.show()\n",
        "\n",
        "  figENC2.add_trace(go.Scatter(x=df.time, y=df.encoder2, name=title))\n",
        "  figENC2.update_layout(title_text=\"Encoder_2(Test Group)\")\n",
        "  # figENC2.show()\n",
        "\n",
        "\n",
        "\n",
        "plotly.offline.plot(figACx, filename = \"X_acc(Test Group).html\", auto_open=False)\n",
        "plotly.offline.plot(figACy, filename = \"Y_acc(Test Group).html\", auto_open=False)\n",
        "plotly.offline.plot(figACz, filename = \"Z_acc(Test Group).html\", auto_open=False)\n",
        "plotly.offline.plot(figENC1, filename = \"Encoder_1(Test Group).html\", auto_open=False)\n",
        "plotly.offline.plot(figENC2, filename = \"Encoder_2(Test Group).html\", auto_open=False)"
      ],
      "execution_count": 0,
      "outputs": []
    }
  ]
}